{
 "cells": [
  {
   "cell_type": "markdown",
   "id": "c91e0484-692c-4253-8e83-52a8fc03868f",
   "metadata": {},
   "source": [
    "# Week 2 Independent lab\n",
    "\n",
    "**Course Information:**  Graduate Introduction to Python, BGEN 632\n",
    "\n",
    "**Notebook Author Name:** Leo Valladares\n",
    "\n",
    "**Submission Date:**  2025/03/06\n",
    "\n",
    "**Description:** This notebook will convert Celsius to Fahrenheit and output the converted values. The transformation from Celsius to Fahrenheit uses the next formula:\n",
    "\n",
    "Fahrenheit = (9 / 5) * Celsius + 32\n",
    "\n",
    "### Variable definition"
   ]
  },
  {
   "cell_type": "code",
   "execution_count": null,
   "id": "84072d7d-a276-40a2-a565-1677153d0429",
   "metadata": {},
   "outputs": [],
   "source": [
    "# create variables\n",
    "celsius = 0.0\n",
    "fahrenheit = 0.0 \n",
    "\n",
    "# Request Celsius value to user\n",
    "celsius = float(input(\"Please provide a value, in Celsius, to convert:\\n\"))"
   ]
  },
  {
   "cell_type": "markdown",
   "id": "67827eb8-1b65-4d8d-9113-225c4bee74ec",
   "metadata": {},
   "source": [
    "### Conversion selection\n",
    "For this formula, we need to select a float variable instead of an integer since both of the variables we created in the previous step are float and we want to obtain a result with decimal values. "
   ]
  },
  {
   "cell_type": "code",
   "execution_count": 72,
   "id": "3699e14c-800d-496f-b2a2-a874ab0dcbc1",
   "metadata": {},
   "outputs": [
    {
     "name": "stdout",
     "output_type": "stream",
     "text": [
      "0 degrees celsius is 32 degrees fahrenheit.\n"
     ]
    }
   ],
   "source": [
    "# Convert to Fahrenheit \n",
    "fahrenheit = (9 / 5) * celsius + 32\n",
    "\n",
    "# Print \"c degrees celsius is f degrees fahrenheit.\" \n",
    "print(\"%d degrees celsius is %d degrees fahrenheit.\" % (celsius, fahrenheit))"
   ]
  },
  {
   "cell_type": "markdown",
   "id": "5a0b259e-5a74-47b4-b07a-3b369ad4c271",
   "metadata": {},
   "source": [
    "### Convert fahrenheit to int"
   ]
  },
  {
   "cell_type": "code",
   "execution_count": 91,
   "id": "0b47aea4-3366-4a5c-93bc-add0c803d412",
   "metadata": {},
   "outputs": [
    {
     "name": "stdout",
     "output_type": "stream",
     "text": [
      "fahrenheit (int) = 32\n",
      "<class 'int'>\n"
     ]
    }
   ],
   "source": [
    "# Convert fahrenheit to int\n",
    "int_fahrenheit = int(fahrenheit)\n",
    "\n",
    "# Print fahrenheit and check data type\n",
    "print(\"fahrenheit (int) = %d\" % (int_fahrenheit) )\n",
    "print(type(int_fahrenheit))"
   ]
  }
 ],
 "metadata": {
  "kernelspec": {
   "display_name": "Python [conda env:base] *",
   "language": "python",
   "name": "conda-base-py"
  },
  "language_info": {
   "codemirror_mode": {
    "name": "ipython",
    "version": 3
   },
   "file_extension": ".py",
   "mimetype": "text/x-python",
   "name": "python",
   "nbconvert_exporter": "python",
   "pygments_lexer": "ipython3",
   "version": "3.12.7"
  }
 },
 "nbformat": 4,
 "nbformat_minor": 5
}
