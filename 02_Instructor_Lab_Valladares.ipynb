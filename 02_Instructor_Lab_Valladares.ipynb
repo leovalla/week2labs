{
 "cells": [
  {
   "cell_type": "markdown",
   "id": "136947c4-e057-4395-b873-a989c9008307",
   "metadata": {
    "editable": true,
    "slideshow": {
     "slide_type": ""
    },
    "tags": []
   },
   "source": [
    "UM MSBA - BGEN 632\n",
    "\n",
    "# Week 2 Instructor-led Lab\n",
    "\n",
    "In this assignment you will create basic code showcasing the concepts you learned about in the tutorial. \n",
    "\n",
    "**Create Code cells below this Markdown cell to complete the assignment. Write and run your code. To get full points, your submitted notebook must include saved output in addition to written code.** \n",
    "\n",
    "For this assignment, you are not required to create any Markdown cells but you are encouraged to do so to improve the aesthetics and organization of your lab submission. \n",
    "\n",
    "As stated in the syllabus, you <ins>must</ins> include information about your use of online resources to complete assignments, including chatbots like ChatGPT. You can include reference information within your notebooks and/or within separate files pushed to your repo on GitHub. Failure to disclose the use of online resources is a violation of course policy.\n",
    "\n",
    "## Assigning Values\n",
    "\n",
    "For this portion of the assignment, you will create variables in your notebook. You will assign a value to each variable. Please perform the following tasks and create each variable by assigning the following values:\n",
    "\n",
    "* my_int assign it a number between 1 and 20, inclusive.\n",
    "* long_a assign it the number 6,323,527,192.\n",
    "* float_pi assign it the number 3.14159\n",
    "* my_double assign it a fractional number with 13 decimals.\n",
    "* decimal_a assign it a fractional number with 20 decimals.\n",
    "* big_griz assign it the value G (uppercase).\n",
    "* my_hello assign it a greeting to the entire class.\n",
    "* my_goodbye assign it a farewell to your class.\n",
    "\n",
    "## Single Line Comments\n",
    "\n",
    "At the end of each variable, on the same line, place a single-line comment with a short description of each variable. For example, it would look like this:\n",
    "\n",
    "```\n",
    "new_double = 38.936921934     # A double with 9 decimal places\n",
    "```\n",
    "\n",
    "## Print Output\n",
    "\n",
    "Now that you have assigned values to your variables, let's print them. Output each variable individually.\n",
    "\n",
    "## Type Conversion\n",
    "\n",
    "The last task you have for this lab involves type conversion. Create new variables with the following types, names, and values. Use an explicit type conversion.\n",
    "\n",
    "* `int` named my_new_int with a number between 1 and 20, inclusive.\n",
    "* `float` named float_b with value 3.14159.\n",
    "  \n",
    "Output both variables. \n",
    "\n",
    "---"
   ]
  },
  {
   "cell_type": "markdown",
   "id": "1f49a6b2-2f42-4b30-bfaa-96d092dbb12f",
   "metadata": {},
   "source": [
    "### Next is the definition of variables"
   ]
  },
  {
   "cell_type": "code",
   "execution_count": 27,
   "id": "f89b0802-b02f-44da-a320-8f9fbd52fe2b",
   "metadata": {},
   "outputs": [
    {
     "name": "stdout",
     "output_type": "stream",
     "text": [
      "my_int = 9\n",
      "long_a = 6323527192\n",
      "float_pi = 3.141590\n",
      "my_double = 0.123457\n",
      "decimal_a = 0.333333\n",
      "big_griz = G\n",
      "my_hello = Hello class\n",
      "my_goodbye = Bye class\n"
     ]
    }
   ],
   "source": [
    "# create variables\n",
    "my_int = 9                          # An 1 digit integer \n",
    "long_a =  6323527192                # An integer with 10 digits\n",
    "float_pi = 3.14159                  # A float with 5 decimal places\n",
    "my_double = 0.1234567891234         # A float with 13 decimal places\n",
    "decimal_a = 0.33333333333333333333  # A float with 20 decimal places\n",
    "big_griz = \"G\"                      # A strign with 1 character \n",
    "my_hello =  \"Hello class\"           # A strign with 11 character \n",
    "my_goodbye = \"Bye class\"            # A strign with 9 character \n",
    "\n",
    "# Print variables\n",
    "print(\"my_int = %d\" % (my_int))\n",
    "print(\"long_a = %d\" % (long_a))\n",
    "print(\"float_pi = %f\" % (float_pi))\n",
    "print(\"my_double = %f\" % (my_double))\n",
    "print(\"decimal_a = %f\" % (decimal_a))\n",
    "print(\"big_griz = %s\" % (big_griz))\n",
    "print(\"my_hello = %s\" % (my_hello))\n",
    "print(\"my_goodbye = %s\" % (my_goodbye))"
   ]
  },
  {
   "cell_type": "markdown",
   "id": "5f905fd5-9be4-47be-a2e7-53cc3ab8fc2f",
   "metadata": {},
   "source": [
    "### Type Conversion"
   ]
  },
  {
   "cell_type": "code",
   "execution_count": 33,
   "id": "3bd86447-48af-4a14-8023-07e84d2aebf4",
   "metadata": {},
   "outputs": [
    {
     "name": "stdout",
     "output_type": "stream",
     "text": [
      "my_new_int = 15\n",
      "float_b = 3.141590\n"
     ]
    }
   ],
   "source": [
    "# create variables\n",
    "my_new_int = int(15)  \n",
    "float_b  = float(3.14159)\n",
    "\n",
    "# Print variables\n",
    "print(\"my_new_int = %d\" % (my_new_int))\n",
    "print(\"float_b = %f\" % (float_b))"
   ]
  },
  {
   "cell_type": "code",
   "execution_count": null,
   "id": "908734b7-6ac3-4b88-87a7-8b06d606685f",
   "metadata": {},
   "outputs": [],
   "source": []
  }
 ],
 "metadata": {
  "kernelspec": {
   "display_name": "Python [conda env:base] *",
   "language": "python",
   "name": "conda-base-py"
  },
  "language_info": {
   "codemirror_mode": {
    "name": "ipython",
    "version": 3
   },
   "file_extension": ".py",
   "mimetype": "text/x-python",
   "name": "python",
   "nbconvert_exporter": "python",
   "pygments_lexer": "ipython3",
   "version": "3.12.7"
  }
 },
 "nbformat": 4,
 "nbformat_minor": 5
}
